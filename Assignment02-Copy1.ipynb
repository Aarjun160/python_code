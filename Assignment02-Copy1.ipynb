{
 "cells": [
  {
   "cell_type": "markdown",
   "id": "652609cc-57aa-4338-810a-d1b2089a2077",
   "metadata": {},
   "source": [
    "# Name: Arjun Rameshwar Dinkar\n",
    "# P.R.N.:24030332905012"
   ]
  },
  {
   "cell_type": "markdown",
   "id": "ce052747-7126-4b51-8acf-c993421de847",
   "metadata": {},
   "source": [
    "# ASSIGNMENT:-02"
   ]
  },
  {
   "cell_type": "raw",
   "id": "80dd1a4c-b8db-4f20-9f95-8c6d7da2ba87",
   "metadata": {},
   "source": [
    "1]Store and display student information (name, age, grade)."
   ]
  },
  {
   "cell_type": "code",
   "execution_count": 1,
   "id": "3749f886-dd61-4781-9d65-4c6b3bf40ec1",
   "metadata": {},
   "outputs": [
    {
     "name": "stdout",
     "output_type": "stream",
     "text": [
      "student name: Aryan\n",
      "student age: 18\n",
      "student grade: A grade\n"
     ]
    }
   ],
   "source": [
    "student=(\"Aryan\",18,\"A grade\")\n",
    "\n",
    "print(\"student name:\",student[0])\n",
    "print(\"student age:\",student[1])\n",
    "print(\"student grade:\",student[2])"
   ]
  },
  {
   "cell_type": "raw",
   "id": "050e1946-7645-46fe-ad27-f822c8adb0e4",
   "metadata": {},
   "source": [
    "2]List prices of grocery items and total them."
   ]
  },
  {
   "cell_type": "code",
   "execution_count": 2,
   "id": "672a88b9-b867-485a-87dd-7b452a8568b5",
   "metadata": {},
   "outputs": [
    {
     "name": "stdout",
     "output_type": "stream",
     "text": [
      "grocery list:\n",
      "apple: rupee10\n",
      "milk: rupee20\n",
      "soap: rupee30\n",
      "bottle: rupee40\n",
      "rice: rupee50\n",
      "\n",
      "Total cost: rupee 150\n"
     ]
    }
   ],
   "source": [
    "groceries=(\n",
    "    (\"apple\",10),\n",
    "    (\"milk\",20),\n",
    "    (\"soap\",30),\n",
    "    (\"bottle\",40),\n",
    "    (\"rice\",50)\n",
    ")\n",
    "\n",
    "print(\"grocery list:\")\n",
    "total_cost=0\n",
    "for item in groceries:\n",
    "    print(f\"{item[0]}: rupee{item[1]}\")\n",
    "    total_cost+= item[1]\n",
    "\n",
    "print(\"\\nTotal cost: rupee\",total_cost)"
   ]
  },
  {
   "cell_type": "raw",
   "id": "b14a7251-9546-4413-a6e4-fccd524a4338",
   "metadata": {},
   "source": [
    "3]Pair items with prices using tuples.\n",
    "(\"Milk\", 25), (\"Eggs\", 50), (\"Bread\", 20)"
   ]
  },
  {
   "cell_type": "code",
   "execution_count": 8,
   "id": "e2fd9ec3-d1df-48dc-b0a8-c9e1d2f1bf96",
   "metadata": {},
   "outputs": [
    {
     "name": "stdout",
     "output_type": "stream",
     "text": [
      "Grocery Items and Prices:\n",
      "Milk: ₹25\n",
      "Eggs: ₹50\n",
      "Bread: ₹20\n"
     ]
    }
   ],
   "source": [
    "grocery_items = (\n",
    "    (\"Milk\", 25),\n",
    "    (\"Eggs\", 50),\n",
    "    (\"Bread\", 20)\n",
    ")\n",
    "\n",
    "print(\"Grocery Items and Prices:\")\n",
    "for item in grocery_items:\n",
    "    print(f\"{item[0]}: ₹{item[1]}\")"
   ]
  },
  {
   "cell_type": "raw",
   "id": "9ac993b4-67a0-4331-95ad-53097852ecd0",
   "metadata": {},
   "source": [
    "4]Store and display train schedule as tuples.\n",
    "(\"Rajdhani\",\"10:00\"), (\"Shatabdi\",\"12:30\"), (\"Duronto\",\"17:00\")"
   ]
  },
  {
   "cell_type": "code",
   "execution_count": 9,
   "id": "315d0235-befc-4f67-93c2-1ef4d8655c4f",
   "metadata": {},
   "outputs": [
    {
     "name": "stdout",
     "output_type": "stream",
     "text": [
      "Train and its Time:\n",
      "Rajdhani=10:00\n",
      "Shatabdi=12:30\n",
      "Duronto=17:00\n"
     ]
    }
   ],
   "source": [
    "Schedule=(\n",
    "    (\"Rajdhani\",\"10:00\"),\n",
    "    (\"Shatabdi\",\"12:30\"),\n",
    "    (\"Duronto\",\"17:00\")\n",
    ")\n",
    "\n",
    "print(\"Train and its Time:\")\n",
    "for train in Schedule:\n",
    "    print(f\"{train[0]}={train[1]}\")"
   ]
  },
  {
   "cell_type": "raw",
   "id": "c3380371-8232-4b38-b496-fe307b68b15d",
   "metadata": {},
   "source": [
    "5] Sort employee records by salary.\n",
    "(\"John\", 40000), (\"Alice\", 55000), (\"Raj\", 30000)"
   ]
  },
  {
   "cell_type": "code",
   "execution_count": 11,
   "id": "f8a97a3e-1dc9-4840-99ba-06b1e4499aa0",
   "metadata": {},
   "outputs": [
    {
     "name": "stdout",
     "output_type": "stream",
     "text": [
      "Employee and thier records:\n",
      "John=40000\n",
      "Alice=55000\n",
      "Raj=30000\n"
     ]
    }
   ],
   "source": [
    "Employee_Records= (\n",
    "    (\"John\",40000),\n",
    "    (\"Alice\",55000),\n",
    "    (\"Raj\",30000)\n",
    ")\n",
    "\n",
    "print(\"Employee and thier records:\")\n",
    "for Employee in Employee_Records:\n",
    "    print(f\"{Employee[0]}={Employee[1]}\")"
   ]
  },
  {
   "cell_type": "raw",
   "id": "39c39f39-d79b-4c99-8bb5-24ff805d61ff",
   "metadata": {},
   "source": [
    "6]Count how many students scored above 75 marks.\n",
    "marks = (67, 88, 92, 74, 76, 55)"
   ]
  },
  {
   "cell_type": "code",
   "execution_count": 3,
   "id": "a66df610-ff88-45c6-b0a0-3856c6c02aa9",
   "metadata": {},
   "outputs": [
    {
     "name": "stdout",
     "output_type": "stream",
     "text": [
      "The marks above 75 mark is:3\n"
     ]
    }
   ],
   "source": [
    "Marks=(67, 88, 92, 74, 76, 55)\n",
    "above_75_marks=sum(1 for mark in Marks if mark>75)\n",
    "print(f\"The marks above 75 mark is:{above_75_marks}\")"
   ]
  },
  {
   "cell_type": "raw",
   "id": "47f5c8e5-de38-4122-b970-4b08be6fee9e",
   "metadata": {},
   "source": [
    "7]Create a tuple of stock prices and find the max.\n",
    "Prices = (154.5, 160.2, 149.8, 170.1)"
   ]
  },
  {
   "cell_type": "code",
   "execution_count": 15,
   "id": "417d1b50-673d-4328-921b-4afc7a01b7b2",
   "metadata": {},
   "outputs": [
    {
     "name": "stdout",
     "output_type": "stream",
     "text": [
      "The maximum price in Given Prices is:170.1\n"
     ]
    }
   ],
   "source": [
    "prices = (154.5, 160.2, 149.8, 170.1)\n",
    "max_price = max(prices)\n",
    "print(f\"The maximum price in Given Prices is:{max_price}\")"
   ]
  },
  {
   "cell_type": "raw",
   "id": "d03da57a-bc79-448a-aeb8-59ca6d08f82d",
   "metadata": {},
   "source": [
    "8]Log temperature readings during the day. Find the average temperature\n",
    "temperatures = (29.5, 30.0, 32.2, 31.5, 28.9)"
   ]
  },
  {
   "cell_type": "code",
   "execution_count": 17,
   "id": "85bde830-6b14-4432-807b-e1e787813851",
   "metadata": {},
   "outputs": [
    {
     "name": "stdout",
     "output_type": "stream",
     "text": [
      "Average Temperature=30.42 c\n"
     ]
    }
   ],
   "source": [
    "temperatures = (29.5, 30.0, 32.2, 31.5, 28.9)\n",
    "Average_temp=sum(temperatures)/len(temperatures)\n",
    "print(f\"Average Temperature={Average_temp:.2f} c\")"
   ]
  },
  {
   "cell_type": "raw",
   "id": "ec9d2415-15d6-4129-8768-23f48934c59a",
   "metadata": {},
   "source": [
    "9]Schedule appointments (name, time).\n",
    "appointments = (\"Doctor\", \"10:00 AM\"), (\"Meeting\",\"2:00 PM\")"
   ]
  },
  {
   "cell_type": "code",
   "execution_count": 19,
   "id": "78859e18-af0c-46e6-a4af-6b413eb1961c",
   "metadata": {},
   "outputs": [
    {
     "name": "stdout",
     "output_type": "stream",
     "text": [
      "Appointments:\n",
      "Doctor->10:00 AM\n",
      "Meeting->2:00 PM\n"
     ]
    }
   ],
   "source": [
    "appointments = (\n",
    "                (\"Doctor\", \"10:00 AM\"),\n",
    "                (\"Meeting\",\"2:00 PM\")\n",
    "               )\n",
    "print(\"Appointments:\")\n",
    "for appointment in appointments:\n",
    "    print(f\"{appointment[0]}->{appointment[1]}\")\n"
   ]
  },
  {
   "cell_type": "raw",
   "id": "6ca76833-7cb9-4b82-b0f1-192eda13e565",
   "metadata": {},
   "source": [
    "10]Store contact info (name, phone number).\n",
    "contacts = (\"Anil\",\"9876543210\"), (\"Priya\",\"9123456780\")"
   ]
  },
  {
   "cell_type": "code",
   "execution_count": 20,
   "id": "90eabd1d-c495-4812-ab9c-1641a6b5b2b4",
   "metadata": {},
   "outputs": [
    {
     "name": "stdout",
     "output_type": "stream",
     "text": [
      "Contact List:\n",
      "Name:Anil, Phone number:9876543210\n",
      "Name:Priya, Phone number:9123456780\n"
     ]
    }
   ],
   "source": [
    "contacts = (\n",
    "    (\"Anil\",\"9876543210\"),\n",
    "    (\"Priya\",\"9123456780\")\n",
    ")\n",
    "print(\"Contact List:\")\n",
    "for contact in contacts:\n",
    "    print(f\"Name:{contact[0]}, Phone number:{contact[1]}\")"
   ]
  },
  {
   "cell_type": "raw",
   "id": "d33e347a-0fca-4252-b9ad-02f149e19cdd",
   "metadata": {},
   "source": [
    "11]Display exam schedule with subject and time.\n",
    "exams = (\"Math\", \"9:00 AM\"), (\"Science\", \"11:30 AM\"), (\"English\", \"2:00 PM\")"
   ]
  },
  {
   "cell_type": "code",
   "execution_count": 22,
   "id": "df3685de-840e-4134-9a66-55707444a6f5",
   "metadata": {},
   "outputs": [
    {
     "name": "stdout",
     "output_type": "stream",
     "text": [
      "Exam Schedule:\n",
      "Subject=Math        Time=9:00 AM\n",
      "Subject=Science        Time=11:30 AM\n",
      "Subject=English        Time=2:00 PM\n"
     ]
    }
   ],
   "source": [
    "exams = (\n",
    "    (\"Math\",\"9:00 AM\"),\n",
    "    (\"Science\",\"11:30 AM\"),\n",
    "    (\"English\",\"2:00 PM\")\n",
    ")\n",
    "\n",
    "print(\"Exam Schedule:\")\n",
    "for tt in exams:\n",
    "    print(f\"Subject={tt[0]}        Time={tt[1]}\")"
   ]
  },
  {
   "cell_type": "code",
   "execution_count": null,
   "id": "6b1e1bc1-0597-4973-9167-f97cc61851f2",
   "metadata": {},
   "outputs": [],
   "source": []
  }
 ],
 "metadata": {
  "kernelspec": {
   "display_name": "Python 3 (ipykernel)",
   "language": "python",
   "name": "python3"
  },
  "language_info": {
   "codemirror_mode": {
    "name": "ipython",
    "version": 3
   },
   "file_extension": ".py",
   "mimetype": "text/x-python",
   "name": "python",
   "nbconvert_exporter": "python",
   "pygments_lexer": "ipython3",
   "version": "3.12.7"
  }
 },
 "nbformat": 4,
 "nbformat_minor": 5
}
